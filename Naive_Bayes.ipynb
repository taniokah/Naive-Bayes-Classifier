{
  "nbformat": 4,
  "nbformat_minor": 0,
  "metadata": {
    "colab": {
      "name": "Naive Bayes.ipynb",
      "provenance": [],
      "include_colab_link": true
    },
    "kernelspec": {
      "name": "python3",
      "display_name": "Python 3"
    }
  },
  "cells": [
    {
      "cell_type": "markdown",
      "metadata": {
        "id": "view-in-github",
        "colab_type": "text"
      },
      "source": [
        "<a href=\"https://colab.research.google.com/github/taniokah/Naive-Bayes-Classifier/blob/master/Naive_Bayes.ipynb\" target=\"_parent\"><img src=\"https://colab.research.google.com/assets/colab-badge.svg\" alt=\"Open In Colab\"/></a>"
      ]
    },
    {
      "cell_type": "code",
      "metadata": {
        "id": "lJfvZ4-6uFTh",
        "colab_type": "code",
        "colab": {
          "base_uri": "https://localhost:8080/",
          "height": 68
        },
        "outputId": "7d5768d7-58fd-41aa-fea9-c8d47fedc8f9"
      },
      "source": [
        "import numpy as np\n",
        "#from sklearn.naive_bayes import GaussianNB # ガウシアン\n",
        "from sklearn.naive_bayes import MultinomialNB\n",
        "\n",
        "X = np.array([[1,2,3,4,5,6,7,8],\n",
        "              [1,1,3,4,5,6,6,7],\n",
        "              [2,1,2,4,5,8,8,8]]) # 特徴ベクトル\n",
        "y = np.array([1, 2, 1]) # そのラベル\n",
        "t = np.array([2,2,4,5,6,8,8,8]) # テストデータ\n",
        "\n",
        "#clf = GaussianNB() # 正規分布を仮定したベイズ分類\n",
        "#clf.fit(X, y) # 学習をする\n",
        "#clf.predict(t) # => [3]\n",
        "\n",
        "clf = MultinomialNB(alpha=1.0, class_prior=None, fit_prior=True)\n",
        "clf.fit(X, y)\n",
        "print(clf.predict([t])) #=> [2]\n",
        "print(clf.feature_count_)"
      ],
      "execution_count": 2,
      "outputs": [
        {
          "output_type": "stream",
          "text": [
            "[1]\n",
            "[[ 3.  3.  5.  8. 10. 14. 15. 16.]\n",
            " [ 1.  1.  3.  4.  5.  6.  6.  7.]]\n"
          ],
          "name": "stdout"
        }
      ]
    },
    {
      "cell_type": "code",
      "metadata": {
        "id": "ijRSl4EjuQC3",
        "colab_type": "code",
        "colab": {}
      },
      "source": [
        ""
      ],
      "execution_count": 0,
      "outputs": []
    }
  ]
}